{
  "cells": [
    {
      "cell_type": "markdown",
      "metadata": {
        "id": "view-in-github",
        "colab_type": "text"
      },
      "source": [
        "<a href=\"https://colab.research.google.com/github/mayaIsraeli56/cs50IntroToAI/blob/main/fdm_project.ipynb\" target=\"_parent\"><img src=\"https://colab.research.google.com/assets/colab-badge.svg\" alt=\"Open In Colab\"/></a>"
      ]
    },
    {
      "cell_type": "markdown",
      "id": "71f3fac7",
      "metadata": {
        "cell_marker": "\"\"\"",
        "id": "71f3fac7"
      },
      "source": [
        "# **FDM Project: 1D Heat Equation with a growth/decay factor**\n",
        "\n",
        "<small> version: 25.12.24a</small>\n",
        "\n",
        "* Main objective: design a simulator using\n",
        "  **Finite Difference Method (FDM)**\n",
        "  for solving a 1D heat equation numerically.\n",
        "\n",
        "* **FDM** is a numerical method for solving differential\n",
        "  equations and many other types of mathematical problems,\n",
        "  which is explained in details at the course\n",
        "  lecture notes and the official project booklet,\n",
        "  with many examples that can help you\n",
        "  with this project.\n",
        "\n",
        "* Before starting to work on this project, please read the\n",
        "  project booklet (\"fdm.pdf\"), and make sure you understand\n",
        "  the examples of the 2D heat and wave equations there.\n",
        "  You will find there links to other colab notebooks\n",
        "  which should give you a good start for this project.\n",
        "\n",
        "* You have to download a copy of this notebook to your\n",
        "  private Google drive and work on your private copy.\n",
        "\n",
        "* Please keep the same name: \"fdm_project.ipynb\".\n",
        "\n",
        "* After completing work, you should upload it to\n",
        "  your Moodle assignment box for the FDM project.\n",
        "\n",
        "## Google Colab Notebook Quick Tutorial\n",
        "\n",
        "* Students that are new to **Google Colab Notebook**\n",
        "  are encouraged to invest 10 minutes in one of the following tutorials:\n",
        "\n",
        "* Beginners **Google Colab (Jupyter notebook)**,\n",
        "  YouTube courses:\n",
        "  * [Complete Beginner's Tutorial to Google Colab](https://www.youtube.com/watch?v=JJYZ3OE_lGo)  \n",
        "  * [Google Colab Tutorial for Beginners](https://www.youtube.com/watch?v=iMlMfrXJYSg)\n",
        "  * [Official Google Colaboratory Tutorial](\n",
        "    https://colab.research.google.com/drive/16pBJQePbqkz3QFV54L4NIkOn1kwpuRrj)\n",
        "\n",
        "## Restart and Cleanup\n",
        "* It is easy to get into troubles when you\n",
        "  execute code. In such cases your notebook may be\n",
        "  invalidated and you will have to restart.\n",
        "\n",
        "* To restart your notebook, go to\n",
        "  **Runtime** menu button and select the\n",
        "  **Disconnect and delete runtime** item.\n",
        "\n",
        "* It is also recommended to clear all outputs\n",
        "  (**Edit** --> **Clear all outputs**).\n",
        "\n",
        "* After restart, make sure to run all code cells\n",
        "  **sequentially**.\n",
        "  * Running code cells in the wrong order can\n",
        "  result in a corrupt notebook and then you have to restart\n",
        "  again.\n",
        "\n",
        "## **Activation**\n",
        "* The **FDM Project** is based on our\n",
        "  Python package:\n",
        "  [**fdmtools**](https://samyzaf.com/fdmtools.zip).\n",
        "\n",
        "* Python coders can download it and inspect the code.\n",
        "  But the usage is simple and explained in the many examples\n",
        "  you should find in the course project booklet (\"fdm.pdf\")\n",
        "  which you should find in the Moodle site.\n",
        "\n",
        "* Execute the next code cell in order to install\n",
        "  and load the\n",
        "  [**fdmtools Package**](https://samyzaf.com/fdmtools.zip).\n",
        "\n",
        "* At each stage you can restart your session\n",
        "  from the **Runtime** menu (\"Disconnect and delete runtime\")\n",
        "  if you get into trouble."
      ]
    },
    {
      "cell_type": "code",
      "execution_count": 3,
      "id": "a3b7e90d",
      "metadata": {
        "id": "a3b7e90d",
        "colab": {
          "base_uri": "https://localhost:8080/"
        },
        "outputId": "84873a7d-fa4c-4d97-ba0f-706c40115052"
      },
      "outputs": [
        {
          "output_type": "stream",
          "name": "stdout",
          "text": [
            "  Preparing metadata (setup.py) ... \u001b[?25l\u001b[?25hdone\n",
            "  Preparing metadata (setup.py) ... \u001b[?25l\u001b[?25hdone\n",
            "  Preparing metadata (setup.py) ... \u001b[?25l\u001b[?25hdone\n",
            "  Building wheel for fdmtools (setup.py) ... \u001b[?25l\u001b[?25hdone\n",
            "  Building wheel for ezprogbar (setup.py) ... \u001b[?25l\u001b[?25hdone\n",
            "  Building wheel for ezsettings (setup.py) ... \u001b[?25l\u001b[?25hdone\n",
            "fdmtools version 5\n"
          ]
        }
      ],
      "source": [
        "%pip install -q https://samyzaf.com/fdmtools.zip\n",
        "from fdmtools.heatd1 import *"
      ]
    },
    {
      "cell_type": "markdown",
      "id": "a009d3e0",
      "metadata": {
        "cell_marker": "\"\"\"",
        "id": "a009d3e0"
      },
      "source": [
        "## **Registration**\n",
        "* Please enter your name, identity number, and email\n",
        "  address in the following form.\n",
        "* Use English letters only.\n",
        "* After any change, press the **play** button to update.\n",
        "* After registration, you will get two personal values\n",
        "  for the parameters $\\alpha$ and $\\beta$ which will be used\n",
        "  to define your assignment, and the pde problem\n",
        "  you need to solve in this project."
      ]
    },
    {
      "cell_type": "code",
      "execution_count": 4,
      "id": "3e925d5a",
      "metadata": {
        "id": "3e925d5a",
        "colab": {
          "base_uri": "https://localhost:8080/",
          "height": 372
        },
        "outputId": "bdc33bd7-e701-4fc0-f7df-42cf2b597a02"
      },
      "outputs": [
        {
          "output_type": "display_data",
          "data": {
            "text/plain": [
              "<IPython.core.display.HTML object>"
            ],
            "text/html": [
              "<script src='https://cdnjs.cloudflare.com/ajax/libs/mathjax/3.2.2/latest.js?config=default'></script>"
            ]
          },
          "metadata": {}
        },
        {
          "output_type": "display_data",
          "data": {
            "text/plain": [
              "<IPython.core.display.Math object>"
            ],
            "text/latex": "$\\displaystyle \\large\\color{#004080}\\text{Your parameters are:}\\\\[2.0ex]\n              \\qquad \\alpha = 1.47\\\\[1.0ex]\n              \\qquad \\beta = 2.19\\\\[2.0ex]\\text{Your personnal pde problem is:}\\\\[2.0ex]\\qquad\\left\\{\n        \\begin{array}{ll}\n        u_{t} = 1.47 u_{xx} + 2.19 u , &\\quad 0<x<2,\\quad 0<t<T\n        \\\\[1.0ex]\n        u(x,0) = x(2-x)\\sin(3\\pi x) + x,  &\\quad 0\\leq x \\leq 2\n        \\\\[1.0ex]\n        u(0,t) = 0, &\\quad 0\\leq t\\leq T\n        \\\\[1.0ex]\n        u(2,t) = 2, &\\quad 0\\leq t\\leq T\n        \\end{array}\n        \\right.$"
          },
          "metadata": {}
        },
        {
          "output_type": "stream",
          "name": "stdout",
          "text": [
            "\n",
            "These parameters will be used in the equation you need to solve in this project.\n",
            "They are also available as Python variables with names: alpha, beta\n",
            "which you can access in your Python code at any later code cell.\n"
          ]
        }
      ],
      "source": [
        "# @title Student Form {\"form-width\":\"50%\"}\n",
        "Name = 'Maya Israeli' # @param {type:\"string\"}\n",
        "Id = '209956333' # @param {type:\"string\"}\n",
        "Email = 'maya,isra56@gmail.com' # @param {type:\"string\"}\n",
        "\n",
        "RunForm()"
      ]
    },
    {
      "cell_type": "markdown",
      "id": "3f33cf2b",
      "metadata": {
        "cell_marker": "\"\"\"",
        "id": "3f33cf2b"
      },
      "source": [
        "* To be safe, run the next code cell to make sure that\n",
        "  the variables **alpha** and **beta** are defined\n",
        "  and have the designated values."
      ]
    },
    {
      "cell_type": "code",
      "execution_count": 5,
      "id": "13db9494",
      "metadata": {
        "id": "13db9494",
        "colab": {
          "base_uri": "https://localhost:8080/"
        },
        "outputId": "b9ecc5d4-fa66-430b-dd78-6e7b0db0e02c"
      },
      "outputs": [
        {
          "output_type": "stream",
          "name": "stdout",
          "text": [
            "1.47\n",
            "2.19\n"
          ]
        }
      ],
      "source": [
        "print(alpha)\n",
        "print(beta)"
      ]
    },
    {
      "cell_type": "markdown",
      "id": "a5baf62a",
      "metadata": {
        "cell_marker": "\"\"\"",
        "id": "a5baf62a"
      },
      "source": [
        "## **Description**\n",
        "* Your mission is to use **FDM**\n",
        "  for solving a special type of a 1D heat equation over\n",
        "  a one dimensional metal rod (of finite length $L$).\n",
        "\n",
        "* For simplicity we use constant boundary conditions\n",
        "  of a Dirichlet type.\n",
        "\n",
        "* The typical 1-dimensional heat problem deals with the\n",
        "  propagation of heat along a finite metal rod,\n",
        "  of homogeneous density and a constant diffusion rate $\\alpha$.\n",
        "  It is typically modeled by the standard **wave equation**:  \n",
        "\n",
        "  $\\large\\qquad u_{t} = \\alpha u_{xx}$  \n",
        "\n",
        "  where $u(x,t)$ is the **temperature**\n",
        "  at a point $x$ at time $t$,\n",
        "  and $\\alpha$ is a physical diffusion rate constant.\n",
        "\n",
        "* Our project deals with the more general type of\n",
        "  a 1D heat equation  \n",
        "\n",
        "  $\\large\\qquad u_t = \\alpha u_{xx} + \\beta u$  \n",
        "\n",
        "  where $\\alpha$ is the usual **diffusion constant**\n",
        "  and $\\beta$ is a **growth/decay rate constant**.\n",
        "\n",
        "* This equation models heat propagation along a metal rod,\n",
        "  subject to boundary conditions.  \n",
        "\n",
        "  <IMG\n",
        "src=\"https://samyzaf.com/fdm/heatd1d.jpg?1\"\n",
        "width=540\n",
        "align=\"center\"\n",
        "/>\n",
        "\n",
        "## **Your Differential Equation Problem**\n",
        "\n",
        "* The values of the coefficients $\\alpha$ and $\\beta$\n",
        "  were assigned to you at the registration stage.\n",
        "\n",
        "* These are unique values assigned for each student\n",
        "  as a function of the **ID** number.\n",
        "\n",
        "* Execute the next code cell to view again your pde problem."
      ]
    },
    {
      "cell_type": "code",
      "execution_count": 6,
      "id": "c6677351",
      "metadata": {
        "id": "c6677351",
        "colab": {
          "base_uri": "https://localhost:8080/",
          "height": 303
        },
        "outputId": "63dd9c0c-0b20-4915-8b6a-be3490cd0834"
      },
      "outputs": [
        {
          "output_type": "display_data",
          "data": {
            "text/plain": [
              "<IPython.core.display.HTML object>"
            ],
            "text/html": [
              "<script src='https://cdnjs.cloudflare.com/ajax/libs/mathjax/3.2.2/latest.js?config=default'></script>"
            ]
          },
          "metadata": {}
        },
        {
          "output_type": "display_data",
          "data": {
            "text/plain": [
              "<IPython.core.display.Math object>"
            ],
            "text/latex": "$\\displaystyle \\large\\color{#004080}\\text{Your parameters are:}\\\\[2.0ex]\n              \\qquad \\alpha = 1.47\\\\[1.0ex]\n              \\qquad \\beta = 2.19\\\\[2.0ex]\\text{Your personnal pde problem is:}\\\\[2.0ex]\\qquad\\left\\{\n        \\begin{array}{ll}\n        u_{t} = 1.47 u_{xx} + 2.19 u , &\\quad 0<x<2,\\quad 0<t<T\n        \\\\[1.0ex]\n        u(x,0) = x(2-x)\\sin(3\\pi x) + x,  &\\quad 0\\leq x \\leq 2\n        \\\\[1.0ex]\n        u(0,t) = 0, &\\quad 0\\leq t\\leq T\n        \\\\[1.0ex]\n        u(2,t) = 2, &\\quad 0\\leq t\\leq T\n        \\end{array}\n        \\right.$"
          },
          "metadata": {}
        }
      ],
      "source": [
        "display_my_pde()"
      ]
    },
    {
      "cell_type": "markdown",
      "id": "a850782b",
      "metadata": {
        "cell_marker": "\"\"\"",
        "id": "a850782b"
      },
      "source": [
        "* The physical time $T$ is determined\n",
        "  by the simulation time which we will define later.\n",
        "\n",
        "* The values of $\\alpha$ and $\\beta$ were allocated personally\n",
        "  to each student (after the Registration stage).\n",
        "  They are also available as **Python variables**\n",
        "  with names: **alpha**, **beta**.\n",
        "  So you can access them in your Python code in any later code cell.\n",
        "\n",
        "## **Basic Parameters**\n",
        "* Our metal rod is modeled as an interval $[0,L]$\n",
        "  on the real $x$-axis.\n",
        "* Please follow the following **FDM** parameters scheme\n",
        "  for the coding task\n",
        "  * **L** = Rod Length\n",
        "  * **T** = Physical time duration (real time) of\n",
        "     the heat phenomena\n",
        "  * **alpha** = Physical diffusion rate constant\n",
        "  * **beta** = Physical growth/decay rate constant\n",
        "  * **seconds** = Simulation time\n",
        "  * **N** = Grid division size for the interval $[0,L]$\n",
        "  * **dx** = $x$ grid unit (L/N)\n",
        "  * **dt** = Time grid discrete unit\n",
        "  * **fps** = Frames Per Second (for video simulation)\n",
        "  * **num_frames** = Total number of **time frames** in\n",
        "     our simulation (same as **Nt**!)\n",
        "  * **Nt** = Grid division size for the time interval $[0,T]$\n",
        "    (same as **num_frames**)\n",
        "  * **U** = 2D Numpy matrix which implements the FDM grid\n",
        "\n",
        "## **Agenda**\n",
        "\n",
        "* Our project is to use the **Finite Difference Method (FDM)**\n",
        "  to solve the heat equation above on a metal rod\n",
        "  of length **L=2**.\n",
        "\n",
        "* We leave the parameter **T** open, so we\n",
        "  we can experiment with different values.     \n",
        "\n",
        "* Here is our suggested **FDM Parameter Plan** for this problem.\n",
        "\n",
        "* You may experiment with other values in your solution\n",
        "  process. For example, it is best to start with a small\n",
        "  value of the **seconds** parameter until your code\n",
        "  is stabilized (to save waiting time..)."
      ]
    },
    {
      "cell_type": "code",
      "execution_count": 7,
      "id": "6b95b14b",
      "metadata": {
        "id": "6b95b14b",
        "colab": {
          "base_uri": "https://localhost:8080/"
        },
        "outputId": "1547588f-b761-42c9-9dcf-984ea5aec197"
      },
      "outputs": [
        {
          "output_type": "stream",
          "name": "stdout",
          "text": [
            "dx = 0.02\n",
            "dt = 6.802721088435374e-05\n",
            "gamma = 0.24999999999999997\n"
          ]
        }
      ],
      "source": [
        "L = 2.0                          # Length of rod\n",
        "N = 100                          # Grid division size\n",
        "dx = L/N                         # Step size of x grid unit\n",
        "CFL = 0.5                        # Courant/Friedrich/Lewy condition\n",
        "dt = CFL * dx**2/(2*alpha)       # Automatic choice for dt (See link below)\n",
        "fps = 30                         # Frames per second (good for video simulation)\n",
        "seconds = 15                     # Simulation time (good for video simulation)\n",
        "T = seconds * fps * dt           # Physical time (the real time of the physical event)\n",
        "num_frames = int(seconds*fps)    # Number of discrete time frames (same as Nt)\n",
        "Nt = num_frames                  # Number of discrete time frames (Convenient shorthand)\n",
        "#alpha                           # Heat diffusion rate (allocated earlier!)\n",
        "#beta                            # Heat growth/decay rate (allocated earlier!)\n",
        "gamma = alpha*dt/(dx**2)         # Convenient notation, but relevant to CFL stability\n",
        "U = np.zeros((N+1, Nt+1))        # Our FDM grid (N+1)x(Nt+1) matrix (initialized to zeros)\n",
        "                                 # Dividing a rod to N sub-intervals creates N+1 nodes!\n",
        "\n",
        "print(f\"dx = {dx}\")\n",
        "print(f\"dt = {dt}\")\n",
        "print(f\"gamma = {gamma}\")"
      ]
    },
    {
      "cell_type": "markdown",
      "id": "0f084cd6",
      "metadata": {
        "cell_marker": "\"\"\"",
        "id": "0f084cd6"
      },
      "source": [
        "* The **CFL** parameter refers to the\n",
        "  [Courant/Friedrich/Lewy condition](https://en.wikipedia.org/wiki/Courant%E2%80%93Friedrichs%E2%80%93Lewy_condition)\n",
        "  for selecting stable values for **dt**.\n",
        "\n",
        "* The stability condition that guarantees convergence of our\n",
        "  discrete approximation to a valid solution is  \n",
        "  $\\qquad\n",
        "  \\gamma = \\frac{\\alpha\\Delta t}{\\Delta x^2} \\leq 0.5\n",
        "  $  \n",
        "  [Look at this GPT generated document for more details.](https://samyzaf.com/fdm/gpt_fdm_stability.pdf)\n",
        "\n",
        "* By selecting $\\Delta t = 0.5 \\cdot \\frac{\\Delta x^2}{2\\alpha}$,\n",
        "  we ensure that the **CFL** stability condition is met, and that our\n",
        "  computation will converge.\n",
        "  \n",
        "* However, it is recommended to experiment with other\n",
        "  values for **CFL** for controlling the speed and duration\n",
        "  of the simulation.\n",
        "\n",
        "## **Boundary Conditions**\n",
        "\n",
        "$\\qquad\n",
        "\\left\\{\n",
        "    \\begin{array}{ll}\n",
        "    u(x,0) = x(2-x)\\sin(3\\pi x) + x,  &\\quad 0\\leq x \\leq 2\n",
        "    \\\\[0.5ex]\n",
        "    u(0,t) = 0, &\\quad 0\\leq t\\leq T\n",
        "    \\\\[0.5ex]\n",
        "    u(2,t) = 2, &\\quad 0\\leq t\\leq T\n",
        "    \\end{array}\n",
        "\\right.\n",
        "$  \n",
        "\n",
        "* The specification of our boundary functions in\n",
        "  Python is straightforward.\n",
        "\n",
        "* Except for **f**, all functions are identically zero.\n",
        "\n",
        "* Run the **Python code** for specifying the boundary conditions:"
      ]
    },
    {
      "cell_type": "code",
      "execution_count": 8,
      "id": "62695377",
      "metadata": {
        "id": "62695377"
      },
      "outputs": [],
      "source": [
        "f  = lambda x: x * (L-x) * sin(3*pi*x) + x\n",
        "f1 = lambda t: 0\n",
        "f2 = lambda t: 2"
      ]
    },
    {
      "cell_type": "markdown",
      "id": "3ba0ff15",
      "metadata": {
        "cell_marker": "\"\"\"",
        "id": "3ba0ff15"
      },
      "source": [
        "## **Task 1: $\\bf\\LaTeX$ formulas**\n",
        "* Solve your differential equation using the **FDM** method.\n",
        "\n",
        "* You should obtain a recursive formula which\n",
        "  computes the value of **U[i,k+1]** by previous\n",
        "  terms such as **U[i-1,k]**, **U[i,k]**, **U[i+1,k]**.\n",
        "  * It should not contain any derivatives of **U**!\n",
        "  * Use the parameters suggested above numerically.\n",
        "  * The symbols $\\alpha$ and $\\beta$ are not allowed.\n",
        "  * It should be simplified.\n",
        "\n",
        "* Make sure you rely on the boundary conditions!\n",
        "\n",
        "* Edit the next text cell and write\n",
        "  the three following formulas in $\\LaTeX$ format\n",
        "  1. The difference derivative $U_t$ which you used,\n",
        "  2. The difference derivative $U_{xx}$ which you used,\n",
        "  3. Your final recursive formula for computing the\n",
        "     FDM grid $U$ on layer **k+1** from the previous layer **k**.  \n",
        "     To be clear: derivatives of $U$ on the right side are not allowed!\n",
        "* To edit a text cell: select the cell,\n",
        "  and use the edit button on the top\n",
        "  right menubar of the cell  \n",
        "\n",
        "  <IMG\n",
        "src=\"https://samyzaf.com/fdm/colab_cell_menubar.jpg\"\n",
        "width=400\n",
        "align=\"center\"\n",
        "/>\n",
        "\n",
        "* Before you can do that, you may need a quick tour of\n",
        "  the $\\LaTeX$ (LaTeX) system for writing math formulas.\n",
        "  It shouldn't take you more than 5 minutes to get the idea.\n",
        "  Please look at the short guide after the next cell."
      ]
    },
    {
      "cell_type": "markdown",
      "id": "25db1c1a",
      "metadata": {
        "cell_marker": "\"\"\"",
        "id": "25db1c1a"
      },
      "source": [
        "### **Please complete the following formulas**\n",
        "1. $U_t[i,k] = \\frac{U[i,k+1]-U[i,k]}{Δt} $\n",
        "\n",
        "2. $U_{xx}[i,k] = \\frac{U[i + 1, k] − 2U[i, k] + U[i − 1, k]}{∆x^2} $\n",
        "\n",
        "3. $U[i,k+1] = U[i,k] + γ \\cdot (U[i + 1, k] − 2U[i, k] + U[i − 1, k])  + β ⋅Δt \\cdot U[i,k] $\n",
        "\n",
        "\n",
        "steps:\n",
        "$U[i,k+1] = U[i,k] + 1.47 \\cdot (U[i + 1, k] − 2U[i, k] + U[i − 1, k]) \\frac{ Δt}{∆x^2} +2.19\\cdot U[i,k] ⋅Δt $\n",
        "\n",
        "$\\frac{U[i,k+1]-U[i,k]}{Δt} = 1.47\\cdot\\frac{U[i + 1, k] − 2U[i, k] + U[i − 1, k]}{∆x^2} +2.19 \\cdot U[i,k]$\n",
        "\n",
        "\n",
        "\n",
        "$ U[i,k+1] = U[i,k] + U_t[i,k] ⋅Δt $\n"
      ]
    },
    {
      "cell_type": "markdown",
      "id": "e0957de0",
      "metadata": {
        "cell_marker": "\"\"\"",
        "id": "e0957de0"
      },
      "source": [
        "\n",
        "## **5 Minutes $\\bf\\LaTeX$ Guide: write math in Google Colab Notebook in no time!**\n",
        "\n",
        "* All we need to know is how to write a math fraction,\n",
        "  exponent, subscript, and a few Greek letters!\n",
        "  After going through the easy examples in this table, you\n",
        "  have all you need for this task!  \n",
        "\n",
        "  <IMG\n",
        "src=\"https://samyzaf.com/fdm/latex_guide_1.jpg?3\"\n",
        "width=700\n",
        "align=\"center\"\n",
        "/>  \n",
        "\n",
        "<!--\n",
        "|<font size=\"2\"> LaTeX Command |&nbsp;&nbsp;|<font size=\"2\"> How it is Displayed </font>|\n",
        "| :---|:---:|:---|\n",
        "| `$5U_x - 4U_{tt}$` || $5U_x - 4U_{tt}$ |\n",
        "| `$\\frac{3x^2 \\Delta x}{4\\delta}$` || $\\frac{3x^2 \\Delta x}{4\\delta}$ |\n",
        "| `$\\alpha\\Delta x + \\beta\\Delta t$` || $\\alpha\\Delta x+\\beta\\Delta t$|\n",
        "| `$\\gamma = \\frac{\\alpha\\Delta t}{\\Delta x^2}$` || $\\gamma=\\frac{\\alpha\\Delta t}{\\Delta x^2}$ |\n",
        "| `$8\\delta < 0.25\\epsilon + frac{3x^4}{a+1}$` || $8\\delta < 0.25\\epsilon + \\frac{3x^4}{a+1}$ |  \n",
        "-->\n",
        "\n",
        "\n",
        "* A math formula starts with a `$` sign and ends with a `$` sign.\n",
        "\n",
        "* This is good enough for our needs.\n",
        "\n",
        "* For more information please visit the Google Official Guide:  \n",
        " [Equations and Formulas in Google Colab](https://colab.research.google.com/github/EPS-Libraries-Berkeley/volt/blob/main/LaTeX/Equations_and_Formulas.ipynb)\n",
        "\n",
        "## **Task 2: Python Code**\n",
        "* In this task you have to convert the recursive formula\n",
        "  that you obtained in the previous task into\n",
        "  a working Python code!\n",
        "\n",
        "* Your main mission is to write a Python\n",
        "  function **Solve(U)** which takes **U** as an argument\n",
        "  and solves the equation.\n",
        "\n",
        "* We started with an empty grid **U**, and your Python\n",
        "  function **Solve(U)** should fill **U** with\n",
        "  numerical values that approximate a solution to\n",
        "  our differential equation.\n",
        "\n",
        "* Write your **Solve(U)** function code in\n",
        "  the following code cell (and execute it)."
      ]
    },
    {
      "cell_type": "code",
      "execution_count": 10,
      "id": "fbd18fbb",
      "metadata": {
        "id": "fbd18fbb"
      },
      "outputs": [],
      "source": [
        "# Function to solve the heat equation using the finite difference method\n",
        "def Solve():\n",
        "    for k in range(Nt):  # Time step loop\n",
        "        for i in range(1, N):  # Spatial loop (excluding boundaries)\n",
        "            U[i, k + 1] = U[i, k] + gamma * (U[i + 1, k] - 2 * U[i, k] + U[i - 1, k]) + beta * dt * U[i, k]\n",
        "\n",
        "    # Plotting the results\n",
        "    x = np.linspace(0, L, N + 1)  # x-coordinates of the grid\n",
        "    for k in range(0, Nt, int(Nt / 10)):  # Plot every 10th frame\n",
        "        plt.plot(x, U[:, k], label=f'Time = {k*dt:.2f} s')\n",
        "\n",
        "    plt.xlabel('Position (m)')\n",
        "    plt.ylabel('Temperature (°C)')\n",
        "    plt.title('Temperature Distribution in the Rod Over Time')\n",
        "    plt.legend()\n",
        "    plt.show()\n",
        "\n",
        "\n",
        "# Boundary conditions (the hard way - an easier method will be introduced later)\n",
        "for k in range(0, Nt+1):\n",
        "    U[0,k] = 0     # u(0,t) = 0\n",
        "    U[N,k] = 2    # u(2,t)=2\n",
        "\n",
        "for i in range(0, N+1):\n",
        "    U[i,0] = i(2−i)sin(3πi)+i         # u(x,0)=x(2−x)sin(3πx)+x\n",
        "\n",
        "def Solve(U):\n",
        "  for k in range(0,Nt):\n",
        "    for i in range(1,N):\n",
        "      #Uxx = (U[i+1,k] - 2*U[i,k] + U[i-1,k]) / (dx**2)\n",
        "      #U[i,k+1] = U[i,k] + Uxx * dt\n",
        "      U[i, k + 1] = U[i, k] + gamma * (U[i + 1, k] - 2 * U[i, k] + U[i - 1, k]) + beta * dt * U[i, k]\n",
        "\n",
        "\n",
        "# We know the exact solution of this pde!\n",
        "def u(x,t):\n",
        "    return exp(-pi**2 * t) * cos(pi * x)\n",
        "\n",
        "Solve(U)\n",
        "print(\"Diff. grid U is solved\")"
      ]
    },
    {
      "cell_type": "markdown",
      "id": "bdf18892",
      "metadata": {
        "cell_marker": "\"\"\"",
        "id": "bdf18892"
      },
      "source": [
        "* After writing your Solve(U) function, you need to run the\n",
        "  simulation phase.\n",
        "\n",
        "* The **RunSimulation()** function applies the boundary conditions\n",
        "  on **U** and then executes your **Solve(U)** function.\n",
        "\n",
        "* If passed successfully, then your FDM grid **U**\n",
        "  is ready to rock. You may use it to approximate the solution\n",
        "  **u(x,t)** of our problem at any point inside the domain.\n",
        "  We also provide a **PlotHeatFrame** for plotting the solution\n",
        "  at a given time t.\n",
        "\n",
        "* Execute the next code cell to run the simulation."
      ]
    },
    {
      "cell_type": "code",
      "execution_count": 12,
      "id": "0558fdd4",
      "metadata": {
        "id": "0558fdd4",
        "colab": {
          "base_uri": "https://localhost:8080/",
          "height": 332
        },
        "outputId": "38387ef0-de43-4614-9d07-4ebc5312e7f4"
      },
      "outputs": [
        {
          "output_type": "error",
          "ename": "NameError",
          "evalue": "name 'Solve' is not defined",
          "traceback": [
            "\u001b[0;31m---------------------------------------------------------------------------\u001b[0m",
            "\u001b[0;31mNameError\u001b[0m                                 Traceback (most recent call last)",
            "\u001b[0;32m<ipython-input-12-43d2f59d21c2>\u001b[0m in \u001b[0;36m<cell line: 1>\u001b[0;34m()\u001b[0m\n\u001b[0;32m----> 1\u001b[0;31m \u001b[0mRunSimulation\u001b[0m\u001b[0;34m(\u001b[0m\u001b[0;34m)\u001b[0m\u001b[0;34m\u001b[0m\u001b[0;34m\u001b[0m\u001b[0m\n\u001b[0m",
            "\u001b[0;32m/usr/local/lib/python3.10/dist-packages/fdmtools/heatd1.py\u001b[0m in \u001b[0;36mRunSimulation\u001b[0;34m()\u001b[0m\n\u001b[1;32m     23\u001b[0m     \u001b[0;32mwith\u001b[0m \u001b[0mopen\u001b[0m\u001b[0;34m(\u001b[0m\u001b[0msimfile\u001b[0m\u001b[0;34m)\u001b[0m \u001b[0;32mas\u001b[0m \u001b[0mfp\u001b[0m\u001b[0;34m:\u001b[0m\u001b[0;34m\u001b[0m\u001b[0;34m\u001b[0m\u001b[0m\n\u001b[1;32m     24\u001b[0m         \u001b[0mcode\u001b[0m \u001b[0;34m=\u001b[0m \u001b[0mfp\u001b[0m\u001b[0;34m.\u001b[0m\u001b[0mread\u001b[0m\u001b[0;34m(\u001b[0m\u001b[0;34m)\u001b[0m\u001b[0;34m\u001b[0m\u001b[0;34m\u001b[0m\u001b[0m\n\u001b[0;32m---> 25\u001b[0;31m         \u001b[0mexec\u001b[0m\u001b[0;34m(\u001b[0m\u001b[0mcode\u001b[0m\u001b[0;34m,\u001b[0m \u001b[0mcaller_globals\u001b[0m\u001b[0;34m)\u001b[0m\u001b[0;34m\u001b[0m\u001b[0;34m\u001b[0m\u001b[0m\n\u001b[0m\u001b[1;32m     26\u001b[0m \u001b[0;34m\u001b[0m\u001b[0m\n\u001b[1;32m     27\u001b[0m \u001b[0;34m\u001b[0m\u001b[0m\n",
            "\u001b[0;32m<string>\u001b[0m in \u001b[0;36m<module>\u001b[0;34m\u001b[0m\n",
            "\u001b[0;32m<string>\u001b[0m in \u001b[0;36mrun_simulation\u001b[0;34m()\u001b[0m\n",
            "\u001b[0;31mNameError\u001b[0m: name 'Solve' is not defined"
          ]
        }
      ],
      "source": [
        "RunSimulation()"
      ]
    },
    {
      "cell_type": "markdown",
      "id": "d67ff4dc",
      "metadata": {
        "cell_marker": "\"\"\"",
        "id": "d67ff4dc"
      },
      "source": [
        "## **Task 3: compute the value of $u(0.5,0.01)$**\n",
        "* In this task you have to write code for approximating\n",
        "  the value of $u(0.5,0.01)$ using your FDM grid **U**.\n",
        "\n",
        "* Write your code in the following code cell."
      ]
    },
    {
      "cell_type": "code",
      "execution_count": null,
      "id": "b9a93e8d",
      "metadata": {
        "id": "b9a93e8d"
      },
      "outputs": [],
      "source": [
        "# Write your code here\n",
        "# ...\n",
        "# ..."
      ]
    },
    {
      "cell_type": "markdown",
      "id": "1e200a5f",
      "metadata": {
        "cell_marker": "\"\"\"",
        "id": "1e200a5f"
      },
      "source": [
        "## **Plotting**\n",
        "\n",
        "* To help with debugging your code, we provide\n",
        "  a plotting utility (**PlotHeatFrame**)\n",
        "  for viewing heat frames.\n",
        "\n",
        "* You can configure the following plotting parameters\n",
        "  to inspect your solution."
      ]
    },
    {
      "cell_type": "code",
      "execution_count": null,
      "id": "3c307536",
      "metadata": {
        "id": "3c307536"
      },
      "outputs": [],
      "source": [
        "# plotting parameters\n",
        "text_x = 0.00                 # x coordinate for top text\n",
        "text_y = 1.07                 # y coordinate for top text\n",
        "math_x = 0.52                 # x coordinate for math text\n",
        "figure_width = 5              # Figure width in inches\n",
        "dpi = 120                     # Video resolution (dots per inch)\n",
        "fontsize = 9                  # Text font size\n",
        "linespacing = 1.5             # Spacing between text lines\n",
        "\n",
        "math_text = [                 # LaTeX Math formula text for video\n",
        "    r\"$u_{t} = \\alpha u_{xx} + \\beta u$\",\n",
        "    r\"$u(x,0,t) = x (2-x) \\sin(3\\pi x)$\",\n",
        "    r\"$u(0,t) = 0$\",\n",
        "    r\"$u(2,t) = 2$\",\n",
        "]"
      ]
    },
    {
      "cell_type": "markdown",
      "id": "9178ee20",
      "metadata": {
        "cell_marker": "\"\"\"",
        "id": "9178ee20"
      },
      "source": [
        "### **Plotting frames of your solution**\n",
        "* You can plot a particular heat frame by\n",
        "  using the **PlotHeatFrame** function.\n",
        "\n",
        "* For example, to plot frame k=18 use the command:"
      ]
    },
    {
      "cell_type": "code",
      "execution_count": null,
      "id": "1c603301",
      "metadata": {
        "id": "1c603301"
      },
      "outputs": [],
      "source": [
        "PlotHeatFrame(18)"
      ]
    },
    {
      "cell_type": "markdown",
      "id": "29a196a6",
      "metadata": {
        "cell_marker": "\"\"\"",
        "lines_to_next_cell": 2,
        "id": "29a196a6"
      },
      "source": [
        "## **Final Comments**\n",
        "* Students interested in how the Numpy array is initialized\n",
        "  with the boundary conditions can download the\n",
        "  **[fdmtools package](https://samyzaf.com/fdmtools.zip)**\n",
        "  and browse the Python code for all the details.\n",
        "\n",
        "* Make sure you don't forget to fill your details at the\n",
        "  form above. The most important detail is your ID number!\n",
        "\n",
        "* After completing this project, you should save the notebook as\n",
        "  an **ipynb** file on your local drive:\n",
        "  **File-->Download-->Download .ipynb**.\n",
        "  Then upload it to the\n",
        "  assignment box of the Moodle project page.\n",
        "  Make sure you keep the same name:\n",
        "  **\"fdm_project.ipynb\"**.\n",
        "\n",
        "* **GOOD LUCK!**"
      ]
    }
  ],
  "metadata": {
    "jupytext": {
      "cell_metadata_filter": "-all",
      "main_language": "python",
      "notebook_metadata_filter": "-all"
    },
    "colab": {
      "provenance": [],
      "include_colab_link": true
    },
    "language_info": {
      "name": "python"
    },
    "kernelspec": {
      "name": "python3",
      "display_name": "Python 3"
    }
  },
  "nbformat": 4,
  "nbformat_minor": 5
}